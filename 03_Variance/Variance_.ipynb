{
 "cells": [
  {
   "cell_type": "code",
   "execution_count": 12,
   "metadata": {},
   "outputs": [],
   "source": [
    "import numpy as np"
   ]
  },
  {
   "cell_type": "code",
   "execution_count": 13,
   "metadata": {},
   "outputs": [
    {
     "name": "stdout",
     "output_type": "stream",
     "text": [
      "[-3.66809372e-01  2.00262996e-03 -9.19160943e-01  9.06298256e-01\n",
      "  1.46284754e+00 -4.77005009e-01 -2.81732357e-01  6.06068806e-01\n",
      " -8.30101563e-01 -8.10454662e-01 -6.73968572e-01 -8.53459348e-01\n",
      " -1.01647211e+00 -3.57812574e-01  9.44461463e-01 -4.19891925e-01\n",
      "  1.66760064e+00 -4.82972935e-01  5.74851364e-02 -2.72700169e+00\n",
      "  1.19824376e+00 -8.51533129e-01  2.35993368e-01  5.37526314e-01\n",
      "  2.08750833e-01 -6.18264441e-01  1.22570419e-01 -1.54176784e+00\n",
      " -5.80628725e-01 -1.00517664e+00]\n"
     ]
    }
   ],
   "source": [
    "population = np.random.randn(30)\n",
    "print(population)"
   ]
  },
  {
   "cell_type": "code",
   "execution_count": 14,
   "metadata": {},
   "outputs": [
    {
     "name": "stdout",
     "output_type": "stream",
     "text": [
      "[ 2.08750833e-01 -8.10454662e-01 -5.80628725e-01 -5.80628725e-01\n",
      "  2.35993368e-01 -4.82972935e-01 -3.57812574e-01  5.37526314e-01\n",
      " -4.77005009e-01  2.00262996e-03 -6.18264441e-01 -4.82972935e-01\n",
      " -8.51533129e-01  6.06068806e-01 -8.53459348e-01 -4.82972935e-01\n",
      " -8.30101563e-01 -2.72700169e+00 -4.82972935e-01 -5.80628725e-01]\n"
     ]
    }
   ],
   "source": [
    "sample = np.random.choice(population, 20)\n",
    "print(sample)"
   ]
  },
  {
   "cell_type": "code",
   "execution_count": 15,
   "metadata": {},
   "outputs": [],
   "source": [
    "result_population = np.var(population)\n",
    "result_sample = np.var(sample)"
   ]
  },
  {
   "cell_type": "code",
   "execution_count": 16,
   "metadata": {},
   "outputs": [
    {
     "name": "stdout",
     "output_type": "stream",
     "text": [
      "Population :  0.8309103482543404\n",
      "Sample :  0.45285090931820715\n"
     ]
    }
   ],
   "source": [
    "print('Population : ', result_population)\n",
    "print('Sample : ', result_sample)"
   ]
  },
  {
   "cell_type": "code",
   "execution_count": null,
   "metadata": {},
   "outputs": [],
   "source": []
  }
 ],
 "metadata": {
  "kernelspec": {
   "display_name": "Python 3",
   "language": "python",
   "name": "python3"
  },
  "language_info": {
   "codemirror_mode": {
    "name": "ipython",
    "version": 3
   },
   "file_extension": ".py",
   "mimetype": "text/x-python",
   "name": "python",
   "nbconvert_exporter": "python",
   "pygments_lexer": "ipython3",
   "version": "3.7.4"
  }
 },
 "nbformat": 4,
 "nbformat_minor": 2
}
