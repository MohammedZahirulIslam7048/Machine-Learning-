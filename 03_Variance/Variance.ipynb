# -*- coding: utf-8 -*-
"""
Created on Sun Nov 22 20:32:58 2020

@author: DCL
"""

import numpy as np

population = np.random.randn(30)
print(population)