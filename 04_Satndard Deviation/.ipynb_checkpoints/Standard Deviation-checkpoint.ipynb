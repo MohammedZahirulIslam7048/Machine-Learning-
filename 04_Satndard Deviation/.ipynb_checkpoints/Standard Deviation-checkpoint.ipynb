{
 "cells": [
  {
   "cell_type": "code",
   "execution_count": 12,
   "metadata": {},
   "outputs": [],
   "source": [
    "import numpy as np"
   ]
  },
  {
   "cell_type": "code",
   "execution_count": 13,
   "metadata": {},
   "outputs": [],
   "source": [
    "population_std = np.random.randn(30)"
   ]
  },
  {
   "cell_type": "code",
   "execution_count": 14,
   "metadata": {},
   "outputs": [
    {
     "name": "stdout",
     "output_type": "stream",
     "text": [
      "Population :  [ 7.33085865e-01  4.02127365e-01 -9.64076100e-01 -9.98015846e-02\n",
      " -1.36908904e+00  1.09462971e+00  1.45274818e+00 -1.69717457e-01\n",
      " -8.16586116e-01  5.47132288e-02  3.14293544e-01 -1.99926856e-01\n",
      " -1.70271336e-01 -1.42724189e-01  6.17749456e-01  9.59239922e-01\n",
      " -6.39483280e-01 -1.56573255e+00 -6.15182772e-01 -9.56742669e-01\n",
      "  2.17073778e-01  5.79881126e-01 -1.25452709e+00  9.61129337e-01\n",
      " -5.18273966e-01 -6.58348288e-01 -3.77824561e-01 -4.48540200e-01\n",
      "  4.90244877e-04  1.29492828e-01]\n"
     ]
    }
   ],
   "source": [
    "print('Population : ',population_std)"
   ]
  },
  {
   "cell_type": "code",
   "execution_count": 15,
   "metadata": {},
   "outputs": [],
   "source": [
    "sample_std = np.random.choice(population_std, 20)"
   ]
  },
  {
   "cell_type": "code",
   "execution_count": 16,
   "metadata": {},
   "outputs": [
    {
     "name": "stdout",
     "output_type": "stream",
     "text": [
      "Sample :  [-1.36908904e+00 -6.15182772e-01  9.61129337e-01  4.90244877e-04\n",
      " -1.69717457e-01  1.45274818e+00  4.02127365e-01 -3.77824561e-01\n",
      " -1.70271336e-01 -1.70271336e-01  1.45274818e+00  4.90244877e-04\n",
      "  1.45274818e+00  9.59239922e-01 -1.56573255e+00 -1.56573255e+00\n",
      "  5.79881126e-01  1.09462971e+00 -1.42724189e-01  2.17073778e-01]\n"
     ]
    }
   ],
   "source": [
    "print('Sample : ', sample_std)"
   ]
  },
  {
   "cell_type": "code",
   "execution_count": 17,
   "metadata": {},
   "outputs": [],
   "source": [
    "result_population = np.std(population_std)"
   ]
  },
  {
   "cell_type": "code",
   "execution_count": 18,
   "metadata": {},
   "outputs": [],
   "source": [
    "result_sample = np.std(sample_std)"
   ]
  },
  {
   "cell_type": "code",
   "execution_count": 19,
   "metadata": {},
   "outputs": [
    {
     "name": "stdout",
     "output_type": "stream",
     "text": [
      "Population S.D :  0.7463533401643206\n",
      "Sample S.D :  0.922767313372054\n"
     ]
    }
   ],
   "source": [
    "print('Population S.D : ', result_population)\n",
    "print('Sample S.D : ', result_sample)"
   ]
  },
  {
   "cell_type": "code",
   "execution_count": null,
   "metadata": {},
   "outputs": [],
   "source": []
  }
 ],
 "metadata": {
  "kernelspec": {
   "display_name": "Python 3",
   "language": "python",
   "name": "python3"
  },
  "language_info": {
   "codemirror_mode": {
    "name": "ipython",
    "version": 3
   },
   "file_extension": ".py",
   "mimetype": "text/x-python",
   "name": "python",
   "nbconvert_exporter": "python",
   "pygments_lexer": "ipython3",
   "version": "3.7.4"
  }
 },
 "nbformat": 4,
 "nbformat_minor": 2
}
